{
  "nbformat": 4,
  "nbformat_minor": 0,
  "metadata": {
    "colab": {
      "name": "rnn_project.ipynb",
      "provenance": []
    },
    "kernelspec": {
      "display_name": "Python 3",
      "name": "python3"
    },
    "accelerator": "GPU"
  },
  "cells": [
    {
      "cell_type": "code",
      "metadata": {
        "id": "IBpx5WF7l9SP"
      },
      "source": [
        "import tensorflow as tf\n",
        "import numpy as np\n",
        "import os\n",
        "import time\n",
        "import pandas as pd\n",
        "import io\n",
        "from keras import Sequential, layers"
      ],
      "execution_count": 1,
      "outputs": []
    },
    {
      "cell_type": "code",
      "metadata": {
        "id": "ZTKU8gxymLDr",
        "colab": {
          "base_uri": "https://localhost:8080/"
        },
        "outputId": "5914f36a-8de9-4ef1-d429-35cb5e258857"
      },
      "source": [
        "path1 = tf.keras.utils.get_file(\"alice.txt\", \"https://raw.githubusercontent.com/donaldong/rnn-text-gen/master/data/alice.txt\")"
      ],
      "execution_count": 2,
      "outputs": [
        {
          "output_type": "stream",
          "text": [
            "Downloading data from https://raw.githubusercontent.com/donaldong/rnn-text-gen/master/data/alice.txt\n",
            "155648/147526 [===============================] - 0s 0us/step\n"
          ],
          "name": "stdout"
        }
      ]
    },
    {
      "cell_type": "code",
      "metadata": {
        "colab": {
          "base_uri": "https://localhost:8080/",
          "height": 35
        },
        "id": "NdqTpejonAIP",
        "outputId": "878a94a8-82d0-44d9-db88-8f65aed40c4e"
      },
      "source": [
        "path1[:50]"
      ],
      "execution_count": 3,
      "outputs": [
        {
          "output_type": "execute_result",
          "data": {
            "application/vnd.google.colaboratory.intrinsic+json": {
              "type": "string"
            },
            "text/plain": [
              "'/root/.keras/datasets/alice.txt'"
            ]
          },
          "metadata": {
            "tags": []
          },
          "execution_count": 3
        }
      ]
    },
    {
      "cell_type": "code",
      "metadata": {
        "colab": {
          "base_uri": "https://localhost:8080/"
        },
        "id": "aEB3NZY5nlY2",
        "outputId": "f2bf69d2-2e01-4f65-8233-e02975678c02"
      },
      "source": [
        "text = open(path1, 'rb').read().decode(encoding='utf-8')#encoding utf-8 because it can understand any charecter\n",
        "print(\"{}\".format(len(text)))\n",
        "type(text)"
      ],
      "execution_count": 4,
      "outputs": [
        {
          "output_type": "stream",
          "text": [
            "147524\n"
          ],
          "name": "stdout"
        },
        {
          "output_type": "execute_result",
          "data": {
            "text/plain": [
              "str"
            ]
          },
          "metadata": {
            "tags": []
          },
          "execution_count": 4
        }
      ]
    },
    {
      "cell_type": "code",
      "metadata": {
        "colab": {
          "base_uri": "https://localhost:8080/"
        },
        "id": "XkmHSWg3qLt6",
        "outputId": "6de0e00c-2447-4134-9d70-100a1a20e989"
      },
      "source": [
        "print(text[:300])#first 300 from the data"
      ],
      "execution_count": 5,
      "outputs": [
        {
          "output_type": "stream",
          "text": [
            "﻿ALICE'S ADVENTURES IN WONDERLAND\r\n",
            "\r\n",
            "Lewis Carroll\r\n",
            "\r\n",
            "CHAPTER I. Down the Rabbit-Hole\r\n",
            "\r\n",
            "Alice was beginning to get very tired of sitting by her sister on the\r\n",
            "bank, and of having nothing to do: once or twice she had peeped into the\r\n",
            "book her sister was reading, but it had no pictures or conversatio\n"
          ],
          "name": "stdout"
        }
      ]
    },
    {
      "cell_type": "code",
      "metadata": {
        "colab": {
          "base_uri": "https://localhost:8080/"
        },
        "id": "SlWyKPz6qZsF",
        "outputId": "1f51fecc-5cc6-4b67-c40a-4886bf59dbc0"
      },
      "source": [
        "vocab = sorted(set(text))#extracting unique characters from the data\n",
        "print(vocab)\n",
        "len(vocab)#length of unique characters present in the data"
      ],
      "execution_count": 6,
      "outputs": [
        {
          "output_type": "stream",
          "text": [
            "['\\n', '\\r', ' ', '!', '\"', \"'\", '(', ')', '*', ',', '-', '.', ':', ';', '?', 'A', 'B', 'C', 'D', 'E', 'F', 'G', 'H', 'I', 'J', 'K', 'L', 'M', 'N', 'O', 'P', 'Q', 'R', 'S', 'T', 'U', 'V', 'W', 'X', 'Y', 'Z', '[', ']', '_', 'a', 'b', 'c', 'd', 'e', 'f', 'g', 'h', 'i', 'j', 'k', 'l', 'm', 'n', 'o', 'p', 'q', 'r', 's', 't', 'u', 'v', 'w', 'x', 'y', 'z', '\\ufeff']\n"
          ],
          "name": "stdout"
        },
        {
          "output_type": "execute_result",
          "data": {
            "text/plain": [
              "71"
            ]
          },
          "metadata": {
            "tags": []
          },
          "execution_count": 6
        }
      ]
    },
    {
      "cell_type": "code",
      "metadata": {
        "colab": {
          "base_uri": "https://localhost:8080/"
        },
        "id": "hFoufXmzt5VD",
        "outputId": "45e6b557-589d-430f-9daa-149f809d0b30"
      },
      "source": [
        "char2id = {u:i for i, u in enumerate(vocab)}#giving the unique index for each unique character\n",
        "id2char = np.array(vocab)#converting the list to an numpy array\n",
        "text_as_int = np.array([char2id[a] for a in text])#giving the assigned index number to each character in the data\n",
        "print(text_as_int)\n",
        "type(id2char)#length of the data"
      ],
      "execution_count": 7,
      "outputs": [
        {
          "output_type": "stream",
          "text": [
            "[70 15 26 ... 19 28 18]\n"
          ],
          "name": "stdout"
        },
        {
          "output_type": "execute_result",
          "data": {
            "text/plain": [
              "numpy.ndarray"
            ]
          },
          "metadata": {
            "tags": []
          },
          "execution_count": 7
        }
      ]
    },
    {
      "cell_type": "code",
      "metadata": {
        "colab": {
          "base_uri": "https://localhost:8080/"
        },
        "id": "EOu4q3A6yeL3",
        "outputId": "9fd3b86d-bb63-4c9b-cf04-f9e9700e4b5a"
      },
      "source": [
        "seq_len = 500 #selecting sequence length as 100\n",
        "exampels = len(text)//(seq_len+1) #here it returns no.of sequences are present in data\n",
        "#creating training exampels\n",
        "train_examples = tf.data.Dataset.from_tensor_slices(text_as_int)\n",
        "\n",
        "#printing from training\n",
        "print(exampels)\n",
        "for i in train_examples.take(5):\n",
        "  print(type(i.numpy()))\n",
        "  print((train_examples))\n",
        " "
      ],
      "execution_count": 8,
      "outputs": [
        {
          "output_type": "stream",
          "text": [
            "294\n",
            "<class 'numpy.int64'>\n",
            "<TensorSliceDataset shapes: (), types: tf.int64>\n",
            "<class 'numpy.int64'>\n",
            "<TensorSliceDataset shapes: (), types: tf.int64>\n",
            "<class 'numpy.int64'>\n",
            "<TensorSliceDataset shapes: (), types: tf.int64>\n",
            "<class 'numpy.int64'>\n",
            "<TensorSliceDataset shapes: (), types: tf.int64>\n",
            "<class 'numpy.int64'>\n",
            "<TensorSliceDataset shapes: (), types: tf.int64>\n"
          ],
          "name": "stdout"
        }
      ]
    },
    {
      "cell_type": "code",
      "metadata": {
        "colab": {
          "base_uri": "https://localhost:8080/"
        },
        "id": "yIdBy1A96jDr",
        "outputId": "7fb5d9ec-cee0-42c2-a9cd-b0862084922c"
      },
      "source": [
        "#creat batch exampels\n",
        "sequences = train_examples.batch(seq_len+1, drop_remainder=True)\n",
        "\n",
        "for i in sequences.take(5):\n",
        "  print(repr(\"\".join(id2char[i])))\n"
      ],
      "execution_count": 9,
      "outputs": [
        {
          "output_type": "stream",
          "text": [
            "\"\\ufeffALICE'S ADVENTURES IN WONDERLAND\\r\\n\\r\\nLewis Carroll\\r\\n\\r\\nCHAPTER I. Down the Rabbit-Hole\\r\\n\\r\\nAlice was beginning to get very tired of sitting by her sister on the\\r\\nbank, and of having nothing to do: once or twice she had peeped into the\\r\\nbook her sister was reading, but it had no pictures or conversations in\\r\\nit, 'and what is the use of a book,' thought Alice 'without pictures or\\r\\nconversations?'\\r\\n\\r\\nSo she was considering in her own mind (as well as she could, for the\\r\\nhot day made her feel very slee\"\n",
            "\"py and stupid), whether the pleasure\\r\\nof making a daisy-chain would be worth the trouble of getting up and\\r\\npicking the daisies, when suddenly a White Rabbit with pink eyes ran\\r\\nclose by her.\\r\\n\\r\\nThere was nothing so VERY remarkable in that; nor did Alice think it so\\r\\nVERY much out of the way to hear the Rabbit say to itself, 'Oh dear!\\r\\nOh dear! I shall be late!' (when she thought it over afterwards, it\\r\\noccurred to her that she ought to have wondered at this, but at the time\\r\\nit all seemed quite \"\n",
            "'natural); but when the Rabbit actually TOOK A WATCH\\r\\nOUT OF ITS WAISTCOAT-POCKET, and looked at it, and then hurried on,\\r\\nAlice started to her feet, for it flashed across her mind that she had\\r\\nnever before seen a rabbit with either a waistcoat-pocket, or a watch\\r\\nto take out of it, and burning with curiosity, she ran across the field\\r\\nafter it, and fortunately was just in time to see it pop down a large\\r\\nrabbit-hole under the hedge.\\r\\n\\r\\nIn another moment down went Alice after it, never once consi'\n",
            "'dering how\\r\\nin the world she was to get out again.\\r\\n\\r\\nThe rabbit-hole went straight on like a tunnel for some way, and then\\r\\ndipped suddenly down, so suddenly that Alice had not a moment to think\\r\\nabout stopping herself before she found herself falling down a very deep\\r\\nwell.\\r\\n\\r\\nEither the well was very deep, or she fell very slowly, for she had\\r\\nplenty of time as she went down to look about her and to wonder what was\\r\\ngoing to happen next. First, she tried to look down and make out what\\r\\nshe was'\n",
            "\" coming to, but it was too dark to see anything; then she\\r\\nlooked at the sides of the well, and noticed that they were filled with\\r\\ncupboards and book-shelves; here and there she saw maps and pictures\\r\\nhung upon pegs. She took down a jar from one of the shelves as\\r\\nshe passed; it was labelled 'ORANGE MARMALADE', but to her great\\r\\ndisappointment it was empty: she did not like to drop the jar for fear\\r\\nof killing somebody, so managed to put it into one of the cupboards as\\r\\nshe fell past it.\\r\\n\\r\\n'Wel\"\n"
          ],
          "name": "stdout"
        }
      ]
    },
    {
      "cell_type": "code",
      "metadata": {
        "colab": {
          "base_uri": "https://localhost:8080/"
        },
        "id": "Z-sjhfx6aB2r",
        "outputId": "c03a2d61-4f91-4c68-ad19-1b61b6292927"
      },
      "source": [
        "#create labels and features\n",
        "\n",
        "def split_input_target(example): #In text data we have take feature and target variable from data itself\n",
        "  features = example[:-1] #input variable\n",
        "  target = example[1:] #output variable\n",
        "  return features, target\n",
        "\n",
        "dataset = sequences.map(split_input_target)#map will return entire function by applying the function\n",
        "print(dataset)\n",
        "\n",
        "#print the labels and features\n",
        "for inp, out in dataset.take(1):#it will return the first sequence feature and target\n",
        "  print(repr(\"\".join(id2char[inp])))\n",
        "  print(repr(\"\".join(id2char[out])))"
      ],
      "execution_count": 10,
      "outputs": [
        {
          "output_type": "stream",
          "text": [
            "<MapDataset shapes: ((500,), (500,)), types: (tf.int64, tf.int64)>\n",
            "\"\\ufeffALICE'S ADVENTURES IN WONDERLAND\\r\\n\\r\\nLewis Carroll\\r\\n\\r\\nCHAPTER I. Down the Rabbit-Hole\\r\\n\\r\\nAlice was beginning to get very tired of sitting by her sister on the\\r\\nbank, and of having nothing to do: once or twice she had peeped into the\\r\\nbook her sister was reading, but it had no pictures or conversations in\\r\\nit, 'and what is the use of a book,' thought Alice 'without pictures or\\r\\nconversations?'\\r\\n\\r\\nSo she was considering in her own mind (as well as she could, for the\\r\\nhot day made her feel very sle\"\n",
            "\"ALICE'S ADVENTURES IN WONDERLAND\\r\\n\\r\\nLewis Carroll\\r\\n\\r\\nCHAPTER I. Down the Rabbit-Hole\\r\\n\\r\\nAlice was beginning to get very tired of sitting by her sister on the\\r\\nbank, and of having nothing to do: once or twice she had peeped into the\\r\\nbook her sister was reading, but it had no pictures or conversations in\\r\\nit, 'and what is the use of a book,' thought Alice 'without pictures or\\r\\nconversations?'\\r\\n\\r\\nSo she was considering in her own mind (as well as she could, for the\\r\\nhot day made her feel very slee\"\n"
          ],
          "name": "stdout"
        }
      ]
    },
    {
      "cell_type": "code",
      "metadata": {
        "colab": {
          "base_uri": "https://localhost:8080/"
        },
        "id": "96yvDD-Hbjln",
        "outputId": "fe82cea5-bf7c-4dee-cfed-5658f99dcd4f"
      },
      "source": [
        "batch_size = 32\n",
        "buffer_size = 5000\n",
        "\n",
        "#Each buffer size contains 100 batches and each batch size is 100 examples (example size is 101 characters)\n",
        "#Shuffling batches\n",
        "\n",
        "dataset = dataset.shuffle(buffer_size).batch(batch_size, drop_remainder = True)#shuffle will not disturbe the original data it just randomize the sequences\n",
        "dataset#return the batch size and sequence length"
      ],
      "execution_count": 11,
      "outputs": [
        {
          "output_type": "execute_result",
          "data": {
            "text/plain": [
              "<BatchDataset shapes: ((32, 500), (32, 500)), types: (tf.int64, tf.int64)>"
            ]
          },
          "metadata": {
            "tags": []
          },
          "execution_count": 11
        }
      ]
    },
    {
      "cell_type": "code",
      "metadata": {
        "id": "lXzlBGdJy0wC"
      },
      "source": [
        "vocab_size = len(vocab)#length of the vocab(unique characters)\n",
        "emdb_dimension = 256 #we assinging 256 number of different probabilities weights for each character only in training data, the higher number so we will flexibity to play training characters\n",
        "rnn_units = 512 #neurons\n",
        "\n",
        "def build_model(vocab_size, dimension, rnn_units, batch_size):\n",
        "  model = Sequential()\n",
        "  model.add(layers.Embedding(vocab_size, dimension, batch_input_shape=[batch_size, None]))\n",
        "  model.add(layers.GRU(rnn_units, return_sequences=True, stateful=True,\n",
        "                       recurrent_initializer='glorot_uniform'))\n",
        "  model.add(layers.Dense(vocab_size))\n",
        "  return model"
      ],
      "execution_count": 12,
      "outputs": []
    },
    {
      "cell_type": "code",
      "metadata": {
        "id": "2pkIqUq-4Zh-"
      },
      "source": [
        "model = build_model(vocab_size = len(vocab), dimension = emdb_dimension, rnn_units = rnn_units, batch_size = batch_size)"
      ],
      "execution_count": 13,
      "outputs": []
    },
    {
      "cell_type": "code",
      "metadata": {
        "colab": {
          "base_uri": "https://localhost:8080/"
        },
        "id": "cfIE4OWc32hq",
        "outputId": "de698fb8-6e36-4816-9acf-c89c06980e00"
      },
      "source": [
        "model.summary()"
      ],
      "execution_count": 14,
      "outputs": [
        {
          "output_type": "stream",
          "text": [
            "Model: \"sequential\"\n",
            "_________________________________________________________________\n",
            "Layer (type)                 Output Shape              Param #   \n",
            "=================================================================\n",
            "embedding (Embedding)        (32, None, 256)           18176     \n",
            "_________________________________________________________________\n",
            "gru (GRU)                    (32, None, 512)           1182720   \n",
            "_________________________________________________________________\n",
            "dense (Dense)                (32, None, 71)            36423     \n",
            "=================================================================\n",
            "Total params: 1,237,319\n",
            "Trainable params: 1,237,319\n",
            "Non-trainable params: 0\n",
            "_________________________________________________________________\n"
          ],
          "name": "stdout"
        }
      ]
    },
    {
      "cell_type": "code",
      "metadata": {
        "colab": {
          "base_uri": "https://localhost:8080/"
        },
        "id": "HF4SMifF344v",
        "outputId": "21746b67-118d-4e04-d0fa-2c638175305c"
      },
      "source": [
        "for input_example, target_example in dataset.take(1):\n",
        "  predictions = model(input_example)#predicting the values from 1st sequence input_example\n",
        "  print(predictions[1])\n",
        "  print(predictions.shape)\n"
      ],
      "execution_count": 15,
      "outputs": [
        {
          "output_type": "stream",
          "text": [
            "tf.Tensor(\n",
            "[[ 0.01782637  0.00084512 -0.0036728  ... -0.01585506 -0.00290488\n",
            "  -0.01121875]\n",
            " [ 0.01328417 -0.0046986   0.01165092 ... -0.01769181  0.0203241\n",
            "   0.00796344]\n",
            " [ 0.0066522  -0.00841187 -0.00230645 ... -0.01464416  0.01556613\n",
            "  -0.01464508]\n",
            " ...\n",
            " [-0.00391804  0.00644405 -0.0147492  ...  0.00582189  0.00013372\n",
            "  -0.02551406]\n",
            " [ 0.01404808  0.00548985 -0.01330749 ... -0.0124232  -0.00012317\n",
            "  -0.024261  ]\n",
            " [-0.00518257  0.00138119 -0.02649014 ... -0.02486592 -0.00529225\n",
            "  -0.00376632]], shape=(500, 71), dtype=float32)\n",
            "(32, 500, 71)\n"
          ],
          "name": "stdout"
        }
      ]
    },
    {
      "cell_type": "code",
      "metadata": {
        "id": "UprGsy9P50RL"
      },
      "source": [
        "sample_indices = tf.random.categorical(predictions[0], num_samples=1)\n",
        "sample_indices = tf.squeeze(sample_indices, axis = 1).numpy()"
      ],
      "execution_count": 16,
      "outputs": []
    },
    {
      "cell_type": "code",
      "metadata": {
        "colab": {
          "base_uri": "https://localhost:8080/"
        },
        "id": "s0Hax4w8BCBY",
        "outputId": "b50eec11-cfc0-43a9-8053-5fed577588d8"
      },
      "source": [
        "print(\"input: \\n\", repr(\"\".join(id2char[input_example[0]])))\n",
        "print(\"Next Character: \\n\", repr(\"\".join(id2char[sample_indices])))"
      ],
      "execution_count": 17,
      "outputs": [
        {
          "output_type": "stream",
          "text": [
            "input: \n",
            " \"\\ncourt.\\r\\n\\r\\n'What do you know about this business?' the King said to Alice.\\r\\n\\r\\n'Nothing,' said Alice.\\r\\n\\r\\n'Nothing WHATEVER?' persisted the King.\\r\\n\\r\\n'Nothing whatever,' said Alice.\\r\\n\\r\\n'That's very important,' the King said, turning to the jury. They were\\r\\njust beginning to write this down on their slates, when the White Rabbit\\r\\ninterrupted: 'UNimportant, your Majesty means, of course,' he said in a\\r\\nvery respectful tone, but frowning and making faces at him as he spoke.\\r\\n\\r\\n'UNimportant, of course,\"\n",
            "Next Character: \n",
            " 'u\\ufeff\\rpvAf;FmfhLar:GM.--nbj_vO(XEjzc[B[y\\nbepFL!:UIv-.-;CoDEb[)VW\\'x?COmzOIX)?ghsokxbAfExbNzj\"]fADqZVTZ]jsq(EzF*FOg Tu_mg\\'CY:glJVU(OB?rzd\"Kp*(!_d?D,p;Bw,GkQ;hC\\n- NTZwpNVNdZwjYPyp:ACJGb:g*m\\ufeffrxUAH!kM;_ON;,OTS[LPsjn?_y\")tDGoMMgAtI:TPmtD.zH\\ufeffVvq\"NJcE;IQBUI\\ufeffh\\nOZFEUlYQYrUy\\rQH?XSOIl*JUM,]ln*PGVR\\'((;Hcu\\ufeffc!OEvg?DqNaDl_kiebx\\ufeffi-i aG-AgAe_MKpoXjn*E*JglF*;:?e\\rw\\rfp-G\\rxt!LHvTtjQQ\\'uWit_NV!GiyAvCYeT]?k\\'j]P[ycOmpj*SBoc?xyR;Pv;\".wLNESM*jLVtBccs-ySxFX]C(JSyw]aEH]Gyn\\necp!\\'EnWv!sVrep:JY,iGT[CHPW*\\n;;KbLj_AA:xUe,,tuY\\'!pnec;\"'\n"
          ],
          "name": "stdout"
        }
      ]
    },
    {
      "cell_type": "code",
      "metadata": {
        "colab": {
          "base_uri": "https://localhost:8080/"
        },
        "id": "JIQfKLyOByJt",
        "outputId": "10f76a4c-c2fc-4f55-b9f3-648f244e1d77"
      },
      "source": [
        "def loss(labels, logits):\n",
        "   return tf.keras.losses.sparse_categorical_crossentropy(labels, logits, from_logits=True)#getting the loss function of the model\n",
        "\n",
        "loss_example = loss(target_example, predictions)\n",
        "print(\"prediction shape\", predictions.shape)\n",
        "print(\"scalar loss\", loss_example.numpy().mean())#return the mean loss of the model"
      ],
      "execution_count": 18,
      "outputs": [
        {
          "output_type": "stream",
          "text": [
            "prediction shape (32, 500, 71)\n",
            "scalar loss 4.2624187\n"
          ],
          "name": "stdout"
        }
      ]
    },
    {
      "cell_type": "code",
      "metadata": {
        "id": "kLu-jhr8YmBr"
      },
      "source": [
        "model.compile(optimizer=\"adam\", loss=loss)#compiling the model"
      ],
      "execution_count": 19,
      "outputs": []
    },
    {
      "cell_type": "code",
      "metadata": {
        "id": "G5_G42B3ZHEI"
      },
      "source": [
        "#saving the weights of the model\n",
        "checkpoint_dir = \"./training_checkpoint\"\n",
        "\n",
        "checkpoint_prefix = os.path.join(checkpoint_dir, \"ckpt_{epoch}\")\n",
        "\n",
        "checkpoint_callback = tf.keras.callbacks.ModelCheckpoint(filepath=checkpoint_prefix, save_weights_only=True)"
      ],
      "execution_count": 20,
      "outputs": []
    },
    {
      "cell_type": "code",
      "metadata": {
        "id": "s5-cmCkSj-gJ"
      },
      "source": [
        "EPOCHS = 5 #No. of epochs "
      ],
      "execution_count": 21,
      "outputs": []
    },
    {
      "cell_type": "code",
      "metadata": {
        "colab": {
          "base_uri": "https://localhost:8080/"
        },
        "id": "c-454v3mkNH9",
        "outputId": "e3dca664-1b96-47d3-a824-cbc0b767979e"
      },
      "source": [
        "history = model.fit(dataset, epochs=EPOCHS, callbacks=[checkpoint_callback])#fitting the model"
      ],
      "execution_count": 22,
      "outputs": [
        {
          "output_type": "stream",
          "text": [
            "Epoch 1/5\n",
            "9/9 [==============================] - 2s 77ms/step - loss: 4.1462\n",
            "Epoch 2/5\n",
            "9/9 [==============================] - 1s 69ms/step - loss: 3.4183\n",
            "Epoch 3/5\n",
            "9/9 [==============================] - 1s 71ms/step - loss: 3.1548\n",
            "Epoch 4/5\n",
            "9/9 [==============================] - 1s 69ms/step - loss: 3.0256\n",
            "Epoch 5/5\n",
            "9/9 [==============================] - 1s 69ms/step - loss: 2.8857\n"
          ],
          "name": "stdout"
        }
      ]
    },
    {
      "cell_type": "code",
      "metadata": {
        "id": "KCyqb_iXkZXT"
      },
      "source": [
        "summary = history.history"
      ],
      "execution_count": 23,
      "outputs": []
    },
    {
      "cell_type": "code",
      "metadata": {
        "colab": {
          "base_uri": "https://localhost:8080/"
        },
        "id": "9OdQQnjRZHiK",
        "outputId": "0def1624-efbe-4b62-87ef-6c0c963a729d"
      },
      "source": [
        "summary.keys()"
      ],
      "execution_count": 24,
      "outputs": [
        {
          "output_type": "execute_result",
          "data": {
            "text/plain": [
              "dict_keys(['loss'])"
            ]
          },
          "metadata": {
            "tags": []
          },
          "execution_count": 24
        }
      ]
    },
    {
      "cell_type": "code",
      "metadata": {
        "colab": {
          "base_uri": "https://localhost:8080/",
          "height": 295
        },
        "id": "CHWunLe2ZI8I",
        "outputId": "9838c9b8-8fa7-489d-b3f2-f4bafdc7aecf"
      },
      "source": [
        "import matplotlib.pyplot as plt\n",
        "loss = summary['loss']\n",
        "epochs = range(1, 6)\n",
        "plt.plot(epochs, loss, 'p', label = \"Traning Loss values\")\n",
        "plt.title(\"LOSS\")\n",
        "plt.xlabel('Epochs')\n",
        "plt.ylabel('Loss')\n",
        "plt.legend()\n",
        "plt.show()\n"
      ],
      "execution_count": 25,
      "outputs": [
        {
          "output_type": "display_data",
          "data": {
            "image/png": "[encoded data removed]",
            "text/plain": [
              "<Figure size 432x288 with 1 Axes>"
            ]
          },
          "metadata": {
            "tags": [],
            "needs_background": "light"
          }
        }
      ]
    },
    {
      "cell_type": "code",
      "metadata": {
        "colab": {
          "base_uri": "https://localhost:8080/",
          "height": 35
        },
        "id": "hQ43cbR5aWfp",
        "outputId": "76a9b3a1-538a-4e95-db85-f958b67a924d"
      },
      "source": [
        "tf.train.latest_checkpoint(checkpoint_dir)"
      ],
      "execution_count": 26,
      "outputs": [
        {
          "output_type": "execute_result",
          "data": {
            "application/vnd.google.colaboratory.intrinsic+json": {
              "type": "string"
            },
            "text/plain": [
              "'./training_checkpoint/ckpt_5'"
            ]
          },
          "metadata": {
            "tags": []
          },
          "execution_count": 26
        }
      ]
    },
    {
      "cell_type": "code",
      "metadata": {
        "id": "65kIO-Y7bE7z"
      },
      "source": [
        "model = build_model(vocab_size, emdb_dimension, rnn_units, batch_size=1)"
      ],
      "execution_count": 27,
      "outputs": []
    },
    {
      "cell_type": "code",
      "metadata": {
        "id": "H5iUqbhfu9_u"
      },
      "source": [
        "model.load_weights(tf.train.latest_checkpoint(checkpoint_dir))#loading the weights which saved in checkppint_dir\n",
        "model.build(tf.TensorShape([1, None]))"
      ],
      "execution_count": 28,
      "outputs": []
    },
    {
      "cell_type": "code",
      "metadata": {
        "colab": {
          "base_uri": "https://localhost:8080/"
        },
        "id": "48nuEkncvZK9",
        "outputId": "7932834f-7a0f-4f19-98c0-ae05d980abfc"
      },
      "source": [
        "model.summary()"
      ],
      "execution_count": 29,
      "outputs": [
        {
          "output_type": "stream",
          "text": [
            "Model: \"sequential_1\"\n",
            "_________________________________________________________________\n",
            "Layer (type)                 Output Shape              Param #   \n",
            "=================================================================\n",
            "embedding_1 (Embedding)      (1, None, 256)            18176     \n",
            "_________________________________________________________________\n",
            "gru_1 (GRU)                  (1, None, 512)            1182720   \n",
            "_________________________________________________________________\n",
            "dense_1 (Dense)              (1, None, 71)             36423     \n",
            "=================================================================\n",
            "Total params: 1,237,319\n",
            "Trainable params: 1,237,319\n",
            "Non-trainable params: 0\n",
            "_________________________________________________________________\n"
          ],
          "name": "stdout"
        }
      ]
    },
    {
      "cell_type": "code",
      "metadata": {
        "colab": {
          "base_uri": "https://localhost:8080/"
        },
        "id": "XIAoTFqZvgHA",
        "outputId": "c8e77fca-b28b-4f67-9102-83fb321cf2a4"
      },
      "source": [
        "input_eval = [12]\n",
        "print(input_eval)\n",
        "input_eval = tf.expand_dims(input_eval, 0)#here shape will be changed(previously-shape(1) now changed to (1, 1))\n",
        "print(input_eval)\n",
        "prediction = model(input_eval)#return the the 71 differnt character with there probabilty weights assigned\n",
        "print(prediction)\n",
        "prediction = tf.squeeze(prediction, 0)#squeeze the prediction values means it returns same values \n",
        "print(prediction)\n",
        "predicted_id = tf.random.categorical(prediction, num_samples=1)[-1, 0].numpy()\n",
        "print(predicted_id)#returns the highest probabilty weight from 71 different characters"
      ],
      "execution_count": 30,
      "outputs": [
        {
          "output_type": "stream",
          "text": [
            "[12]\n",
            "tf.Tensor([[12]], shape=(1, 1), dtype=int32)\n",
            "tf.Tensor(\n",
            "[[[-0.13270259  0.32789737  1.3124948   0.00421956 -0.4017403\n",
            "    0.20216897 -0.372234   -0.3668898  -0.4272323   0.4502529\n",
            "    0.01286751  0.15797219 -0.17478728 -0.19867405 -0.11603794\n",
            "   -0.19896992 -0.28830904 -0.4835006  -0.3805571  -0.34343147\n",
            "   -0.44547668 -0.43933803 -0.2242952  -0.12431761 -0.38017157\n",
            "   -0.41741934 -0.4257754  -0.40432802 -0.4126151  -0.19524828\n",
            "   -0.3551266  -0.39135623 -0.3252402  -0.24696824 -0.1285213\n",
            "   -0.3221918  -0.554889   -0.30135128 -0.3316343  -0.22925127\n",
            "   -0.483322   -0.50710773 -0.39326313 -0.5697083   0.1486722\n",
            "   -0.11794858 -0.0264941   0.37183422  0.37766668 -0.09059794\n",
            "    0.04889245  0.25570935  0.26281494 -0.35512397 -0.03960874\n",
            "    0.09182304  0.04807552  0.20820467  0.16627555 -0.05855139\n",
            "   -0.3421222   0.50589204  0.04047975  0.08253589  0.0206752\n",
            "    0.00167432 -0.06126424 -0.28611082  0.12226263 -0.3950675\n",
            "   -0.4694034 ]]], shape=(1, 1, 71), dtype=float32)\n",
            "tf.Tensor(\n",
            "[[-0.13270259  0.32789737  1.3124948   0.00421956 -0.4017403   0.20216897\n",
            "  -0.372234   -0.3668898  -0.4272323   0.4502529   0.01286751  0.15797219\n",
            "  -0.17478728 -0.19867405 -0.11603794 -0.19896992 -0.28830904 -0.4835006\n",
            "  -0.3805571  -0.34343147 -0.44547668 -0.43933803 -0.2242952  -0.12431761\n",
            "  -0.38017157 -0.41741934 -0.4257754  -0.40432802 -0.4126151  -0.19524828\n",
            "  -0.3551266  -0.39135623 -0.3252402  -0.24696824 -0.1285213  -0.3221918\n",
            "  -0.554889   -0.30135128 -0.3316343  -0.22925127 -0.483322   -0.50710773\n",
            "  -0.39326313 -0.5697083   0.1486722  -0.11794858 -0.0264941   0.37183422\n",
            "   0.37766668 -0.09059794  0.04889245  0.25570935  0.26281494 -0.35512397\n",
            "  -0.03960874  0.09182304  0.04807552  0.20820467  0.16627555 -0.05855139\n",
            "  -0.3421222   0.50589204  0.04047975  0.08253589  0.0206752   0.00167432\n",
            "  -0.06126424 -0.28611082  0.12226263 -0.3950675  -0.4694034 ]], shape=(1, 71), dtype=float32)\n",
            "36\n"
          ],
          "name": "stdout"
        }
      ]
    },
    {
      "cell_type": "code",
      "metadata": {
        "id": "1VwV-CC6vw7i"
      },
      "source": [
        "def generate_text(model, start_string):#generating the text through the model by giving the input(start_string)\n",
        "  num_generate = 500 #it will generate 500 text \n",
        "\n",
        "  input_eval = [char2id[d] for d in start_string]#Giving the unique index to each character in input string\n",
        "  input_eval = tf.expand_dims(input_eval, 0)#here shape will be changed\n",
        "\n",
        "  text_generated = []\n",
        "\n",
        "  temperature = 1\n",
        "  model.reset_states()\n",
        "  for i in range(num_generate):\n",
        "    prediction = model(input_eval)#so assigning  the input string to the model and getting the predictions\n",
        "    prediction = tf.squeeze(prediction, 0)#squeezing the predictions \n",
        "    prediction = prediction/temperature\n",
        "    predicted_id = tf.random.categorical(prediction, num_samples=1)[-1, 0].numpy()\n",
        "\n",
        "    input_eval = tf.expand_dims([predicted_id], 0)\n",
        "    text_generated.append(id2char[predicted_id])\n",
        "  \n",
        "  return (start_string + \"\".join(text_generated))"
      ],
      "execution_count": 31,
      "outputs": []
    },
    {
      "cell_type": "code",
      "metadata": {
        "colab": {
          "base_uri": "https://localhost:8080/"
        },
        "id": "BL_iDF733sOp",
        "outputId": "ccd3d6b1-725a-48db-eacc-3fb468f0cee3"
      },
      "source": [
        "print(generate_text(model, \"sister\")) #generating the text through the model by giving any input string"
      ],
      "execution_count": 32,
      "outputs": [
        {
          "output_type": "stream",
          "text": [
            "sistere l\r\n",
            "cihesg t bom\r\n",
            "\r\n",
            "L(Xrn,oler rAnleaar!, !he d t t t ch, -ntAgvclep t d tehe  eowarlmenGtre aisershd tefeiaore hm lotinJregenaft'\re tis wksl!ot arin._fe nd ain cl Irk tfi un\n",
            "l ha'bbAeolv\n",
            "snerctwb he hoint ags ' lf id bobhie Auhileano muidalbd on 'ohood res in thorh iFan abeisnnlh wuood nleghuebocig rSerwiifH\n",
            "'d e t thel ht ira t rerew ret,r toer thee onlatt ow leny s h lhein\r\n",
            "iomnwsm' chnwah, f eemtw E.v re-eeIpouhtf ndren and hisof t l\r\n",
            "s soicen anbe s\rthaonfanhe tarey\r' waif oetere o g,rynt \n"
          ],
          "name": "stdout"
        }
      ]
    },
    {
      "cell_type": "code",
      "metadata": {
        "colab": {
          "base_uri": "https://localhost:8080/"
        },
        "id": "YweJa8GG37n0",
        "outputId": "6e5002e5-0508-4ce1-ca9e-5406d407092d"
      },
      "source": [
        "!pip install pyspellchecker"
      ],
      "execution_count": 33,
      "outputs": [
        {
          "output_type": "stream",
          "text": [
            "Collecting pyspellchecker\n",
            "\u001b[?25l  Downloading https://files.pythonhosted.org/packages/6f/9d/5bb403decde661abc6c5467319a0729d7c238e04d8217d9fef885510ec9d/pyspellchecker-0.5.6-py2.py3-none-any.whl (2.5MB)\n",
            "\r\u001b[K     |▏                               | 10kB 22.9MB/s eta 0:00:01\r\u001b[K     |▎                               | 20kB 15.8MB/s eta 0:00:01\r\u001b[K     |▍                               | 30kB 13.9MB/s eta 0:00:01\r\u001b[K     |▌                               | 40kB 13.6MB/s eta 0:00:01\r\u001b[K     |▋                               | 51kB 10.9MB/s eta 0:00:01\r\u001b[K     |▉                               | 61kB 11.2MB/s eta 0:00:01\r\u001b[K     |█                               | 71kB 11.4MB/s eta 0:00:01\r\u001b[K     |█                               | 81kB 11.5MB/s eta 0:00:01\r\u001b[K     |█▏                              | 92kB 12.3MB/s eta 0:00:01\r\u001b[K     |█▎                              | 102kB 11.6MB/s eta 0:00:01\r\u001b[K     |█▍                              | 112kB 11.6MB/s eta 0:00:01\r\u001b[K     |█▋                              | 122kB 11.6MB/s eta 0:00:01\r\u001b[K     |█▊                              | 133kB 11.6MB/s eta 0:00:01\r\u001b[K     |█▉                              | 143kB 11.6MB/s eta 0:00:01\r\u001b[K     |██                              | 153kB 11.6MB/s eta 0:00:01\r\u001b[K     |██                              | 163kB 11.6MB/s eta 0:00:01\r\u001b[K     |██▎                             | 174kB 11.6MB/s eta 0:00:01\r\u001b[K     |██▍                             | 184kB 11.6MB/s eta 0:00:01\r\u001b[K     |██▌                             | 194kB 11.6MB/s eta 0:00:01\r\u001b[K     |██▋                             | 204kB 11.6MB/s eta 0:00:01\r\u001b[K     |██▊                             | 215kB 11.6MB/s eta 0:00:01\r\u001b[K     |██▉                             | 225kB 11.6MB/s eta 0:00:01\r\u001b[K     |███                             | 235kB 11.6MB/s eta 0:00:01\r\u001b[K     |███▏                            | 245kB 11.6MB/s eta 0:00:01\r\u001b[K     |███▎                            | 256kB 11.6MB/s eta 0:00:01\r\u001b[K     |███▍                            | 266kB 11.6MB/s eta 0:00:01\r\u001b[K     |███▌                            | 276kB 11.6MB/s eta 0:00:01\r\u001b[K     |███▋                            | 286kB 11.6MB/s eta 0:00:01\r\u001b[K     |███▉                            | 296kB 11.6MB/s eta 0:00:01\r\u001b[K     |████                            | 307kB 11.6MB/s eta 0:00:01\r\u001b[K     |████                            | 317kB 11.6MB/s eta 0:00:01\r\u001b[K     |████▏                           | 327kB 11.6MB/s eta 0:00:01\r\u001b[K     |████▎                           | 337kB 11.6MB/s eta 0:00:01\r\u001b[K     |████▌                           | 348kB 11.6MB/s eta 0:00:01\r\u001b[K     |████▋                           | 358kB 11.6MB/s eta 0:00:01\r\u001b[K     |████▊                           | 368kB 11.6MB/s eta 0:00:01\r\u001b[K     |████▉                           | 378kB 11.6MB/s eta 0:00:01\r\u001b[K     |█████                           | 389kB 11.6MB/s eta 0:00:01\r\u001b[K     |█████                           | 399kB 11.6MB/s eta 0:00:01\r\u001b[K     |█████▎                          | 409kB 11.6MB/s eta 0:00:01\r\u001b[K     |█████▍                          | 419kB 11.6MB/s eta 0:00:01\r\u001b[K     |█████▌                          | 430kB 11.6MB/s eta 0:00:01\r\u001b[K     |█████▋                          | 440kB 11.6MB/s eta 0:00:01\r\u001b[K     |█████▊                          | 450kB 11.6MB/s eta 0:00:01\r\u001b[K     |█████▉                          | 460kB 11.6MB/s eta 0:00:01\r\u001b[K     |██████                          | 471kB 11.6MB/s eta 0:00:01\r\u001b[K     |██████▏                         | 481kB 11.6MB/s eta 0:00:01\r\u001b[K     |██████▎                         | 491kB 11.6MB/s eta 0:00:01\r\u001b[K     |██████▍                         | 501kB 11.6MB/s eta 0:00:01\r\u001b[K     |██████▌                         | 512kB 11.6MB/s eta 0:00:01\r\u001b[K     |██████▊                         | 522kB 11.6MB/s eta 0:00:01\r\u001b[K     |██████▉                         | 532kB 11.6MB/s eta 0:00:01\r\u001b[K     |███████                         | 542kB 11.6MB/s eta 0:00:01\r\u001b[K     |███████                         | 552kB 11.6MB/s eta 0:00:01\r\u001b[K     |███████▏                        | 563kB 11.6MB/s eta 0:00:01\r\u001b[K     |███████▎                        | 573kB 11.6MB/s eta 0:00:01\r\u001b[K     |███████▌                        | 583kB 11.6MB/s eta 0:00:01\r\u001b[K     |███████▋                        | 593kB 11.6MB/s eta 0:00:01\r\u001b[K     |███████▊                        | 604kB 11.6MB/s eta 0:00:01\r\u001b[K     |███████▉                        | 614kB 11.6MB/s eta 0:00:01\r\u001b[K     |████████                        | 624kB 11.6MB/s eta 0:00:01\r\u001b[K     |████████▏                       | 634kB 11.6MB/s eta 0:00:01\r\u001b[K     |████████▎                       | 645kB 11.6MB/s eta 0:00:01\r\u001b[K     |████████▍                       | 655kB 11.6MB/s eta 0:00:01\r\u001b[K     |████████▌                       | 665kB 11.6MB/s eta 0:00:01\r\u001b[K     |████████▋                       | 675kB 11.6MB/s eta 0:00:01\r\u001b[K     |████████▊                       | 686kB 11.6MB/s eta 0:00:01\r\u001b[K     |█████████                       | 696kB 11.6MB/s eta 0:00:01\r\u001b[K     |█████████                       | 706kB 11.6MB/s eta 0:00:01\r\u001b[K     |█████████▏                      | 716kB 11.6MB/s eta 0:00:01\r\u001b[K     |█████████▎                      | 727kB 11.6MB/s eta 0:00:01\r\u001b[K     |█████████▍                      | 737kB 11.6MB/s eta 0:00:01\r\u001b[K     |█████████▌                      | 747kB 11.6MB/s eta 0:00:01\r\u001b[K     |█████████▊                      | 757kB 11.6MB/s eta 0:00:01\r\u001b[K     |█████████▉                      | 768kB 11.6MB/s eta 0:00:01\r\u001b[K     |██████████                      | 778kB 11.6MB/s eta 0:00:01\r\u001b[K     |██████████                      | 788kB 11.6MB/s eta 0:00:01\r\u001b[K     |██████████▏                     | 798kB 11.6MB/s eta 0:00:01\r\u001b[K     |██████████▍                     | 808kB 11.6MB/s eta 0:00:01\r\u001b[K     |██████████▌                     | 819kB 11.6MB/s eta 0:00:01\r\u001b[K     |██████████▋                     | 829kB 11.6MB/s eta 0:00:01\r\u001b[K     |██████████▊                     | 839kB 11.6MB/s eta 0:00:01\r\u001b[K     |██████████▉                     | 849kB 11.6MB/s eta 0:00:01\r\u001b[K     |███████████                     | 860kB 11.6MB/s eta 0:00:01\r\u001b[K     |███████████▏                    | 870kB 11.6MB/s eta 0:00:01\r\u001b[K     |███████████▎                    | 880kB 11.6MB/s eta 0:00:01\r\u001b[K     |███████████▍                    | 890kB 11.6MB/s eta 0:00:01\r\u001b[K     |███████████▌                    | 901kB 11.6MB/s eta 0:00:01\r\u001b[K     |███████████▋                    | 911kB 11.6MB/s eta 0:00:01\r\u001b[K     |███████████▊                    | 921kB 11.6MB/s eta 0:00:01\r\u001b[K     |████████████                    | 931kB 11.6MB/s eta 0:00:01\r\u001b[K     |████████████                    | 942kB 11.6MB/s eta 0:00:01\r\u001b[K     |████████████▏                   | 952kB 11.6MB/s eta 0:00:01\r\u001b[K     |████████████▎                   | 962kB 11.6MB/s eta 0:00:01\r\u001b[K     |████████████▍                   | 972kB 11.6MB/s eta 0:00:01\r\u001b[K     |████████████▋                   | 983kB 11.6MB/s eta 0:00:01\r\u001b[K     |████████████▊                   | 993kB 11.6MB/s eta 0:00:01\r\u001b[K     |████████████▉                   | 1.0MB 11.6MB/s eta 0:00:01\r\u001b[K     |█████████████                   | 1.0MB 11.6MB/s eta 0:00:01\r\u001b[K     |█████████████                   | 1.0MB 11.6MB/s eta 0:00:01\r\u001b[K     |█████████████▏                  | 1.0MB 11.6MB/s eta 0:00:01\r\u001b[K     |█████████████▍                  | 1.0MB 11.6MB/s eta 0:00:01\r\u001b[K     |█████████████▌                  | 1.1MB 11.6MB/s eta 0:00:01\r\u001b[K     |█████████████▋                  | 1.1MB 11.6MB/s eta 0:00:01\r\u001b[K     |█████████████▊                  | 1.1MB 11.6MB/s eta 0:00:01\r\u001b[K     |█████████████▉                  | 1.1MB 11.6MB/s eta 0:00:01\r\u001b[K     |██████████████                  | 1.1MB 11.6MB/s eta 0:00:01\r\u001b[K     |██████████████▏                 | 1.1MB 11.6MB/s eta 0:00:01\r\u001b[K     |██████████████▎                 | 1.1MB 11.6MB/s eta 0:00:01\r\u001b[K     |██████████████▍                 | 1.1MB 11.6MB/s eta 0:00:01\r\u001b[K     |██████████████▌                 | 1.1MB 11.6MB/s eta 0:00:01\r\u001b[K     |██████████████▋                 | 1.1MB 11.6MB/s eta 0:00:01\r\u001b[K     |██████████████▉                 | 1.2MB 11.6MB/s eta 0:00:01\r\u001b[K     |███████████████                 | 1.2MB 11.6MB/s eta 0:00:01\r\u001b[K     |███████████████                 | 1.2MB 11.6MB/s eta 0:00:01\r\u001b[K     |███████████████▏                | 1.2MB 11.6MB/s eta 0:00:01\r\u001b[K     |███████████████▎                | 1.2MB 11.6MB/s eta 0:00:01\r\u001b[K     |███████████████▍                | 1.2MB 11.6MB/s eta 0:00:01\r\u001b[K     |███████████████▋                | 1.2MB 11.6MB/s eta 0:00:01\r\u001b[K     |███████████████▊                | 1.2MB 11.6MB/s eta 0:00:01\r\u001b[K     |███████████████▉                | 1.2MB 11.6MB/s eta 0:00:01\r\u001b[K     |████████████████                | 1.2MB 11.6MB/s eta 0:00:01\r\u001b[K     |████████████████                | 1.3MB 11.6MB/s eta 0:00:01\r\u001b[K     |████████████████▎               | 1.3MB 11.6MB/s eta 0:00:01\r\u001b[K     |████████████████▍               | 1.3MB 11.6MB/s eta 0:00:01\r\u001b[K     |████████████████▌               | 1.3MB 11.6MB/s eta 0:00:01\r\u001b[K     |████████████████▋               | 1.3MB 11.6MB/s eta 0:00:01\r\u001b[K     |████████████████▊               | 1.3MB 11.6MB/s eta 0:00:01\r\u001b[K     |████████████████▉               | 1.3MB 11.6MB/s eta 0:00:01\r\u001b[K     |█████████████████               | 1.3MB 11.6MB/s eta 0:00:01\r\u001b[K     |█████████████████▏              | 1.3MB 11.6MB/s eta 0:00:01\r\u001b[K     |█████████████████▎              | 1.4MB 11.6MB/s eta 0:00:01\r\u001b[K     |█████████████████▍              | 1.4MB 11.6MB/s eta 0:00:01\r\u001b[K     |█████████████████▌              | 1.4MB 11.6MB/s eta 0:00:01\r\u001b[K     |█████████████████▋              | 1.4MB 11.6MB/s eta 0:00:01\r\u001b[K     |█████████████████▉              | 1.4MB 11.6MB/s eta 0:00:01\r\u001b[K     |██████████████████              | 1.4MB 11.6MB/s eta 0:00:01\r\u001b[K     |██████████████████              | 1.4MB 11.6MB/s eta 0:00:01\r\u001b[K     |██████████████████▏             | 1.4MB 11.6MB/s eta 0:00:01\r\u001b[K     |██████████████████▎             | 1.4MB 11.6MB/s eta 0:00:01\r\u001b[K     |██████████████████▌             | 1.4MB 11.6MB/s eta 0:00:01\r\u001b[K     |██████████████████▋             | 1.5MB 11.6MB/s eta 0:00:01\r\u001b[K     |██████████████████▊             | 1.5MB 11.6MB/s eta 0:00:01\r\u001b[K     |██████████████████▉             | 1.5MB 11.6MB/s eta 0:00:01\r\u001b[K     |███████████████████             | 1.5MB 11.6MB/s eta 0:00:01\r\u001b[K     |███████████████████             | 1.5MB 11.6MB/s eta 0:00:01\r\u001b[K     |███████████████████▎            | 1.5MB 11.6MB/s eta 0:00:01\r\u001b[K     |███████████████████▍            | 1.5MB 11.6MB/s eta 0:00:01\r\u001b[K     |███████████████████▌            | 1.5MB 11.6MB/s eta 0:00:01\r\u001b[K     |███████████████████▋            | 1.5MB 11.6MB/s eta 0:00:01\r\u001b[K     |███████████████████▊            | 1.5MB 11.6MB/s eta 0:00:01\r\u001b[K     |███████████████████▉            | 1.6MB 11.6MB/s eta 0:00:01\r\u001b[K     |████████████████████            | 1.6MB 11.6MB/s eta 0:00:01\r\u001b[K     |████████████████████▏           | 1.6MB 11.6MB/s eta 0:00:01\r\u001b[K     |████████████████████▎           | 1.6MB 11.6MB/s eta 0:00:01\r\u001b[K     |████████████████████▍           | 1.6MB 11.6MB/s eta 0:00:01\r\u001b[K     |████████████████████▌           | 1.6MB 11.6MB/s eta 0:00:01\r\u001b[K     |████████████████████▊           | 1.6MB 11.6MB/s eta 0:00:01\r\u001b[K     |████████████████████▉           | 1.6MB 11.6MB/s eta 0:00:01\r\u001b[K     |█████████████████████           | 1.6MB 11.6MB/s eta 0:00:01\r\u001b[K     |█████████████████████           | 1.6MB 11.6MB/s eta 0:00:01\r\u001b[K     |█████████████████████▏          | 1.7MB 11.6MB/s eta 0:00:01\r\u001b[K     |█████████████████████▎          | 1.7MB 11.6MB/s eta 0:00:01\r\u001b[K     |█████████████████████▌          | 1.7MB 11.6MB/s eta 0:00:01\r\u001b[K     |█████████████████████▋          | 1.7MB 11.6MB/s eta 0:00:01\r\u001b[K     |█████████████████████▊          | 1.7MB 11.6MB/s eta 0:00:01\r\u001b[K     |█████████████████████▉          | 1.7MB 11.6MB/s eta 0:00:01\r\u001b[K     |██████████████████████          | 1.7MB 11.6MB/s eta 0:00:01\r\u001b[K     |██████████████████████          | 1.7MB 11.6MB/s eta 0:00:01\r\u001b[K     |██████████████████████▎         | 1.7MB 11.6MB/s eta 0:00:01\r\u001b[K     |██████████████████████▍         | 1.8MB 11.6MB/s eta 0:00:01\r\u001b[K     |██████████████████████▌         | 1.8MB 11.6MB/s eta 0:00:01\r\u001b[K     |██████████████████████▋         | 1.8MB 11.6MB/s eta 0:00:01\r\u001b[K     |██████████████████████▊         | 1.8MB 11.6MB/s eta 0:00:01\r\u001b[K     |███████████████████████         | 1.8MB 11.6MB/s eta 0:00:01\r\u001b[K     |███████████████████████         | 1.8MB 11.6MB/s eta 0:00:01\r\u001b[K     |███████████████████████▏        | 1.8MB 11.6MB/s eta 0:00:01\r\u001b[K     |███████████████████████▎        | 1.8MB 11.6MB/s eta 0:00:01\r\u001b[K     |███████████████████████▍        | 1.8MB 11.6MB/s eta 0:00:01\r\u001b[K     |███████████████████████▌        | 1.8MB 11.6MB/s eta 0:00:01\r\u001b[K     |███████████████████████▊        | 1.9MB 11.6MB/s eta 0:00:01\r\u001b[K     |███████████████████████▉        | 1.9MB 11.6MB/s eta 0:00:01\r\u001b[K     |████████████████████████        | 1.9MB 11.6MB/s eta 0:00:01\r\u001b[K     |████████████████████████        | 1.9MB 11.6MB/s eta 0:00:01\r\u001b[K     |████████████████████████▏       | 1.9MB 11.6MB/s eta 0:00:01\r\u001b[K     |████████████████████████▍       | 1.9MB 11.6MB/s eta 0:00:01\r\u001b[K     |████████████████████████▌       | 1.9MB 11.6MB/s eta 0:00:01\r\u001b[K     |████████████████████████▋       | 1.9MB 11.6MB/s eta 0:00:01\r\u001b[K     |████████████████████████▊       | 1.9MB 11.6MB/s eta 0:00:01\r\u001b[K     |████████████████████████▉       | 1.9MB 11.6MB/s eta 0:00:01\r\u001b[K     |█████████████████████████       | 2.0MB 11.6MB/s eta 0:00:01\r\u001b[K     |█████████████████████████▏      | 2.0MB 11.6MB/s eta 0:00:01\r\u001b[K     |█████████████████████████▎      | 2.0MB 11.6MB/s eta 0:00:01\r\u001b[K     |█████████████████████████▍      | 2.0MB 11.6MB/s eta 0:00:01\r\u001b[K     |█████████████████████████▌      | 2.0MB 11.6MB/s eta 0:00:01\r\u001b[K     |█████████████████████████▋      | 2.0MB 11.6MB/s eta 0:00:01\r\u001b[K     |█████████████████████████▊      | 2.0MB 11.6MB/s eta 0:00:01\r\u001b[K     |██████████████████████████      | 2.0MB 11.6MB/s eta 0:00:01\r\u001b[K     |██████████████████████████      | 2.0MB 11.6MB/s eta 0:00:01\r\u001b[K     |██████████████████████████▏     | 2.0MB 11.6MB/s eta 0:00:01\r\u001b[K     |██████████████████████████▎     | 2.1MB 11.6MB/s eta 0:00:01\r\u001b[K     |██████████████████████████▍     | 2.1MB 11.6MB/s eta 0:00:01\r\u001b[K     |██████████████████████████▋     | 2.1MB 11.6MB/s eta 0:00:01\r\u001b[K     |██████████████████████████▊     | 2.1MB 11.6MB/s eta 0:00:01\r\u001b[K     |██████████████████████████▉     | 2.1MB 11.6MB/s eta 0:00:01\r\u001b[K     |███████████████████████████     | 2.1MB 11.6MB/s eta 0:00:01\r\u001b[K     |███████████████████████████     | 2.1MB 11.6MB/s eta 0:00:01\r\u001b[K     |███████████████████████████▏    | 2.1MB 11.6MB/s eta 0:00:01\r\u001b[K     |███████████████████████████▍    | 2.1MB 11.6MB/s eta 0:00:01\r\u001b[K     |███████████████████████████▌    | 2.2MB 11.6MB/s eta 0:00:01\r\u001b[K     |███████████████████████████▋    | 2.2MB 11.6MB/s eta 0:00:01\r\u001b[K     |███████████████████████████▊    | 2.2MB 11.6MB/s eta 0:00:01\r\u001b[K     |███████████████████████████▉    | 2.2MB 11.6MB/s eta 0:00:01\r\u001b[K     |████████████████████████████    | 2.2MB 11.6MB/s eta 0:00:01\r\u001b[K     |████████████████████████████▏   | 2.2MB 11.6MB/s eta 0:00:01\r\u001b[K     |████████████████████████████▎   | 2.2MB 11.6MB/s eta 0:00:01\r\u001b[K     |████████████████████████████▍   | 2.2MB 11.6MB/s eta 0:00:01\r\u001b[K     |████████████████████████████▌   | 2.2MB 11.6MB/s eta 0:00:01\r\u001b[K     |████████████████████████████▋   | 2.2MB 11.6MB/s eta 0:00:01\r\u001b[K     |████████████████████████████▉   | 2.3MB 11.6MB/s eta 0:00:01\r\u001b[K     |█████████████████████████████   | 2.3MB 11.6MB/s eta 0:00:01\r\u001b[K     |█████████████████████████████   | 2.3MB 11.6MB/s eta 0:00:01\r\u001b[K     |█████████████████████████████▏  | 2.3MB 11.6MB/s eta 0:00:01\r\u001b[K     |█████████████████████████████▎  | 2.3MB 11.6MB/s eta 0:00:01\r\u001b[K     |█████████████████████████████▍  | 2.3MB 11.6MB/s eta 0:00:01\r\u001b[K     |█████████████████████████████▋  | 2.3MB 11.6MB/s eta 0:00:01\r\u001b[K     |█████████████████████████████▊  | 2.3MB 11.6MB/s eta 0:00:01\r\u001b[K     |█████████████████████████████▉  | 2.3MB 11.6MB/s eta 0:00:01\r\u001b[K     |██████████████████████████████  | 2.3MB 11.6MB/s eta 0:00:01\r\u001b[K     |██████████████████████████████  | 2.4MB 11.6MB/s eta 0:00:01\r\u001b[K     |██████████████████████████████▏ | 2.4MB 11.6MB/s eta 0:00:01\r\u001b[K     |██████████████████████████████▍ | 2.4MB 11.6MB/s eta 0:00:01\r\u001b[K     |██████████████████████████████▌ | 2.4MB 11.6MB/s eta 0:00:01\r\u001b[K     |██████████████████████████████▋ | 2.4MB 11.6MB/s eta 0:00:01\r\u001b[K     |██████████████████████████████▊ | 2.4MB 11.6MB/s eta 0:00:01\r\u001b[K     |██████████████████████████████▉ | 2.4MB 11.6MB/s eta 0:00:01\r\u001b[K     |███████████████████████████████ | 2.4MB 11.6MB/s eta 0:00:01\r\u001b[K     |███████████████████████████████▏| 2.4MB 11.6MB/s eta 0:00:01\r\u001b[K     |███████████████████████████████▎| 2.4MB 11.6MB/s eta 0:00:01\r\u001b[K     |███████████████████████████████▍| 2.5MB 11.6MB/s eta 0:00:01\r\u001b[K     |███████████████████████████████▌| 2.5MB 11.6MB/s eta 0:00:01\r\u001b[K     |███████████████████████████████▋| 2.5MB 11.6MB/s eta 0:00:01\r\u001b[K     |███████████████████████████████▉| 2.5MB 11.6MB/s eta 0:00:01\r\u001b[K     |████████████████████████████████| 2.5MB 11.6MB/s eta 0:00:01\r\u001b[K     |████████████████████████████████| 2.5MB 11.6MB/s \n",
            "\u001b[?25hInstalling collected packages: pyspellchecker\n",
            "Successfully installed pyspellchecker-0.5.6\n"
          ],
          "name": "stdout"
        }
      ]
    },
    {
      "cell_type": "code",
      "metadata": {
        "id": "tj7Sib6Q4YtW"
      },
      "source": [
        "from spellchecker import SpellChecker\n",
        "spell = SpellChecker()"
      ],
      "execution_count": 34,
      "outputs": []
    },
    {
      "cell_type": "code",
      "metadata": {
        "id": "Xn3qbH9j4zde"
      },
      "source": [
        "gen_text = generate_text(model, \"turtle\")"
      ],
      "execution_count": 35,
      "outputs": []
    },
    {
      "cell_type": "code",
      "metadata": {
        "id": "Dq5FJ_oX5C8r"
      },
      "source": [
        "ls_txt = gen_text.split()"
      ],
      "execution_count": 36,
      "outputs": []
    },
    {
      "cell_type": "code",
      "metadata": {
        "colab": {
          "base_uri": "https://localhost:8080/"
        },
        "id": "bZB-PZ545K_J",
        "outputId": "c6431788-4a01-4449-e8fb-e9889015f4a4"
      },
      "source": [
        "#checking the accuracy of spellings predicted by model\n",
        "correct_words = spell.unknown(ls_txt)\n",
        "spell_acc = len(correct_words)/len(ls_txt)\n",
        "print(spell_acc)"
      ],
      "execution_count": 37,
      "outputs": [
        {
          "output_type": "stream",
          "text": [
            "0.6842105263157895\n"
          ],
          "name": "stdout"
        }
      ]
    },
    {
      "cell_type": "code",
      "metadata": {
        "id": "P_5xtvPo5gaC"
      },
      "source": [
        ""
      ],
      "execution_count": 37,
      "outputs": []
    }
  ]
}